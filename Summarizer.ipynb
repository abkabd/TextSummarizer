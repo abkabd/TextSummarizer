{
  "nbformat": 4,
  "nbformat_minor": 0,
  "metadata": {
    "colab": {
      "name": "Summarizer.ipynb",
      "provenance": [],
      "collapsed_sections": [],
      "include_colab_link": true
    },
    "kernelspec": {
      "name": "python3",
      "display_name": "Python 3"
    },
    "language_info": {
      "name": "python"
    }
  },
  "cells": [
    {
      "cell_type": "markdown",
      "metadata": {
        "id": "view-in-github",
        "colab_type": "text"
      },
      "source": [
        "<a href=\"https://colab.research.google.com/github/abkabd/TextSummarizer/blob/main/Summarizer.ipynb\" target=\"_parent\"><img src=\"https://colab.research.google.com/assets/colab-badge.svg\" alt=\"Open In Colab\"/></a>"
      ]
    },
    {
      "cell_type": "markdown",
      "metadata": {
        "id": "Si8M_G03JNBt"
      },
      "source": [
        "# Installing the *Kaggle API* in Colab"
      ]
    },
    {
      "cell_type": "code",
      "metadata": {
        "colab": {
          "base_uri": "https://localhost:8080/"
        },
        "id": "avDxHKdhGRHv",
        "outputId": "ca43a9cd-5fa6-45fa-a990-f1555e36bf87"
      },
      "source": [
        "!pip install kaggle"
      ],
      "execution_count": null,
      "outputs": [
        {
          "output_type": "stream",
          "name": "stdout",
          "text": [
            "Requirement already satisfied: kaggle in /usr/local/lib/python3.7/dist-packages (1.5.12)\n",
            "Requirement already satisfied: urllib3 in /usr/local/lib/python3.7/dist-packages (from kaggle) (1.24.3)\n",
            "Requirement already satisfied: python-slugify in /usr/local/lib/python3.7/dist-packages (from kaggle) (5.0.2)\n",
            "Requirement already satisfied: six>=1.10 in /usr/local/lib/python3.7/dist-packages (from kaggle) (1.15.0)\n",
            "Requirement already satisfied: tqdm in /usr/local/lib/python3.7/dist-packages (from kaggle) (4.62.3)\n",
            "Requirement already satisfied: requests in /usr/local/lib/python3.7/dist-packages (from kaggle) (2.23.0)\n",
            "Requirement already satisfied: certifi in /usr/local/lib/python3.7/dist-packages (from kaggle) (2021.10.8)\n",
            "Requirement already satisfied: python-dateutil in /usr/local/lib/python3.7/dist-packages (from kaggle) (2.8.2)\n",
            "Requirement already satisfied: text-unidecode>=1.3 in /usr/local/lib/python3.7/dist-packages (from python-slugify->kaggle) (1.3)\n",
            "Requirement already satisfied: chardet<4,>=3.0.2 in /usr/local/lib/python3.7/dist-packages (from requests->kaggle) (3.0.4)\n",
            "Requirement already satisfied: idna<3,>=2.5 in /usr/local/lib/python3.7/dist-packages (from requests->kaggle) (2.10)\n"
          ]
        }
      ]
    },
    {
      "cell_type": "markdown",
      "metadata": {
        "id": "5uTlpQL6JtVi"
      },
      "source": [
        "# Authenticating with Kaggle using kaggle.json"
      ]
    },
    {
      "cell_type": "code",
      "metadata": {
        "colab": {
          "resources": {
            "http://localhost:8080/nbextensions/google.colab/files.js": {
              "data": "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",
              "ok": true,
              "headers": [
                [
                  "content-type",
                  "application/javascript"
                ]
              ],
              "status": 200,
              "status_text": ""
            }
          },
          "base_uri": "https://localhost:8080/",
          "height": 89
        },
        "id": "WHfw_GiQHtev",
        "outputId": "e75e119e-f33f-4ba5-99f0-2d2bfdee8bb2"
      },
      "source": [
        "from google.colab import files\n",
        "\n",
        "uploaded = files.upload()\n",
        "\n",
        "for fn in uploaded.keys():\n",
        "  print('User uploaded file \"{name}\" with length {length} bytes'.format(\n",
        "      name=fn, length=len(uploaded[fn])))\n",
        "  \n",
        "# Then move kaggle.json into the folder where the API expects to find it.\n",
        "!mkdir -p ~/.kaggle/ && mv kaggle.json ~/.kaggle/ && chmod 600 ~/.kaggle/kaggle.json"
      ],
      "execution_count": 1,
      "outputs": [
        {
          "output_type": "display_data",
          "data": {
            "text/html": [
              "\n",
              "     <input type=\"file\" id=\"files-b96fb775-0828-4806-a9a9-d2b56c5dd7af\" name=\"files[]\" multiple disabled\n",
              "        style=\"border:none\" />\n",
              "     <output id=\"result-b96fb775-0828-4806-a9a9-d2b56c5dd7af\">\n",
              "      Upload widget is only available when the cell has been executed in the\n",
              "      current browser session. Please rerun this cell to enable.\n",
              "      </output>\n",
              "      <script src=\"/nbextensions/google.colab/files.js\"></script> "
            ],
            "text/plain": [
              "<IPython.core.display.HTML object>"
            ]
          },
          "metadata": {}
        },
        {
          "output_type": "stream",
          "name": "stdout",
          "text": [
            "Saving kaggle.json to kaggle.json\n",
            "User uploaded file \"kaggle.json\" with length 71 bytes\n"
          ]
        }
      ]
    },
    {
      "cell_type": "markdown",
      "metadata": {
        "id": "prm5Xq4lJ3AN"
      },
      "source": [
        "# Downloading a dataset"
      ]
    },
    {
      "cell_type": "code",
      "metadata": {
        "id": "Aojvqv8Gaf8I",
        "colab": {
          "base_uri": "https://localhost:8080/"
        },
        "outputId": "fbc305b4-c652-4ce4-fcb0-a336c8aca813"
      },
      "source": [
        "!kaggle datasets download 'phoenix120/gazeta-summaries'\n",
        "# \"vfomenko/russian-news-2020\""
      ],
      "execution_count": 2,
      "outputs": [
        {
          "output_type": "stream",
          "name": "stdout",
          "text": [
            "Downloading gazeta-summaries.zip to /content\n",
            " 98% 182M/185M [00:01<00:00, 96.8MB/s]\n",
            "100% 185M/185M [00:02<00:00, 96.6MB/s]\n"
          ]
        }
      ]
    },
    {
      "cell_type": "code",
      "metadata": {
        "colab": {
          "base_uri": "https://localhost:8080/"
        },
        "id": "BLfkAO90MpwT",
        "outputId": "1d2ceae4-72fc-4979-c51e-89a34d499fd9"
      },
      "source": [
        "!unzip gazeta-summaries.zip"
      ],
      "execution_count": 3,
      "outputs": [
        {
          "output_type": "stream",
          "name": "stdout",
          "text": [
            "Archive:  gazeta-summaries.zip\n",
            "  inflating: gazeta_test.jsonl       \n",
            "  inflating: gazeta_train.jsonl      \n",
            "  inflating: gazeta_val.jsonl        \n"
          ]
        }
      ]
    },
    {
      "cell_type": "markdown",
      "metadata": {
        "id": "9ieM4SwfQ4Ww"
      },
      "source": [
        "# Reading our dataset"
      ]
    },
    {
      "cell_type": "code",
      "metadata": {
        "id": "x56q3ujyHLtS"
      },
      "source": [
        "import pandas as pd\n",
        "path = '/content/gazeta_val.jsonl'\n",
        "data = pd.read_json(path, lines=True)\n",
        "# [['title', 'text']]"
      ],
      "execution_count": 4,
      "outputs": []
    },
    {
      "cell_type": "code",
      "metadata": {
        "colab": {
          "base_uri": "https://localhost:8080/"
        },
        "id": "y8pX3F5gNq7E",
        "outputId": "6ff68478-e8ec-41d0-fd80-ba96c46edc2f"
      },
      "source": [
        "data.info()"
      ],
      "execution_count": 5,
      "outputs": [
        {
          "output_type": "stream",
          "name": "stdout",
          "text": [
            "<class 'pandas.core.frame.DataFrame'>\n",
            "RangeIndex: 6369 entries, 0 to 6368\n",
            "Data columns (total 5 columns):\n",
            " #   Column   Non-Null Count  Dtype         \n",
            "---  ------   --------------  -----         \n",
            " 0   date     6369 non-null   datetime64[ns]\n",
            " 1   url      6369 non-null   object        \n",
            " 2   summary  6369 non-null   object        \n",
            " 3   title    6369 non-null   object        \n",
            " 4   text     6369 non-null   object        \n",
            "dtypes: datetime64[ns](1), object(4)\n",
            "memory usage: 248.9+ KB\n"
          ]
        }
      ]
    },
    {
      "cell_type": "code",
      "metadata": {
        "colab": {
          "base_uri": "https://localhost:8080/",
          "height": 503
        },
        "id": "iuR06qAjJf1X",
        "outputId": "ef8c42d2-9acf-45fd-807b-d1ec359ec4d9"
      },
      "source": [
        "data.head()"
      ],
      "execution_count": 6,
      "outputs": [
        {
          "output_type": "execute_result",
          "data": {
            "text/html": [
              "\n",
              "  <div id=\"df-a4c33d6f-54dd-40ba-9c14-2451f6a238d6\">\n",
              "    <div class=\"colab-df-container\">\n",
              "      <div>\n",
              "<style scoped>\n",
              "    .dataframe tbody tr th:only-of-type {\n",
              "        vertical-align: middle;\n",
              "    }\n",
              "\n",
              "    .dataframe tbody tr th {\n",
              "        vertical-align: top;\n",
              "    }\n",
              "\n",
              "    .dataframe thead th {\n",
              "        text-align: right;\n",
              "    }\n",
              "</style>\n",
              "<table border=\"1\" class=\"dataframe\">\n",
              "  <thead>\n",
              "    <tr style=\"text-align: right;\">\n",
              "      <th></th>\n",
              "      <th>date</th>\n",
              "      <th>url</th>\n",
              "      <th>summary</th>\n",
              "      <th>title</th>\n",
              "      <th>text</th>\n",
              "    </tr>\n",
              "  </thead>\n",
              "  <tbody>\n",
              "    <tr>\n",
              "      <th>0</th>\n",
              "      <td>2020-01-01 10:29:58</td>\n",
              "      <td>https://www.gazeta.ru/business/2019/12/26/1288...</td>\n",
              "      <td>В уходящем году инфляция в России находится на...</td>\n",
              "      <td>Дорогой 2020-й: какие продукты подскочат в цене</td>\n",
              "      <td>В 2020 году инфляция в России составит 3,5-4%,...</td>\n",
              "    </tr>\n",
              "    <tr>\n",
              "      <th>1</th>\n",
              "      <td>2020-01-01 11:16:44</td>\n",
              "      <td>https://www.gazeta.ru/army/2020/01/01/12894224...</td>\n",
              "      <td>Мировая общественность призвала лидера КНДР Ки...</td>\n",
              "      <td>Подарок от Ким Чен Ына: Трамп ответил на новые...</td>\n",
              "      <td>Глава Белого дома Дональд Трамп выразил надежд...</td>\n",
              "    </tr>\n",
              "    <tr>\n",
              "      <th>2</th>\n",
              "      <td>2020-01-01 12:39:08</td>\n",
              "      <td>https://www.gazeta.ru/politics/2020/01/01_a_12...</td>\n",
              "      <td>Главный раввин Польши Михаил Шудрих раскритико...</td>\n",
              "      <td>Это манипуляция: раввин Польши ответил Путину ...</td>\n",
              "      <td>Председатель Союза еврейских религиозных общин...</td>\n",
              "    </tr>\n",
              "    <tr>\n",
              "      <th>3</th>\n",
              "      <td>2020-01-01 13:36:41</td>\n",
              "      <td>https://www.gazeta.ru/culture/2020/01/01/a_128...</td>\n",
              "      <td>Народная артистка СССР София Ротару выступила ...</td>\n",
              "      <td>Первая после Путина: Ротару выступила на Новый...</td>\n",
              "      <td>Первой песней наступившего 2020 года на Первом...</td>\n",
              "    </tr>\n",
              "    <tr>\n",
              "      <th>4</th>\n",
              "      <td>2020-01-01 14:20:16</td>\n",
              "      <td>https://www.gazeta.ru/politics/2019/12/30_a_12...</td>\n",
              "      <td>1 января 1895 года родился самый могущественны...</td>\n",
              "      <td>Пресли, Леннон, Трумэн: против кого работал Эд...</td>\n",
              "      <td>Выражение «глубинное государство», пришедшее и...</td>\n",
              "    </tr>\n",
              "  </tbody>\n",
              "</table>\n",
              "</div>\n",
              "      <button class=\"colab-df-convert\" onclick=\"convertToInteractive('df-a4c33d6f-54dd-40ba-9c14-2451f6a238d6')\"\n",
              "              title=\"Convert this dataframe to an interactive table.\"\n",
              "              style=\"display:none;\">\n",
              "        \n",
              "  <svg xmlns=\"http://www.w3.org/2000/svg\" height=\"24px\"viewBox=\"0 0 24 24\"\n",
              "       width=\"24px\">\n",
              "    <path d=\"M0 0h24v24H0V0z\" fill=\"none\"/>\n",
              "    <path d=\"M18.56 5.44l.94 2.06.94-2.06 2.06-.94-2.06-.94-.94-2.06-.94 2.06-2.06.94zm-11 1L8.5 8.5l.94-2.06 2.06-.94-2.06-.94L8.5 2.5l-.94 2.06-2.06.94zm10 10l.94 2.06.94-2.06 2.06-.94-2.06-.94-.94-2.06-.94 2.06-2.06.94z\"/><path d=\"M17.41 7.96l-1.37-1.37c-.4-.4-.92-.59-1.43-.59-.52 0-1.04.2-1.43.59L10.3 9.45l-7.72 7.72c-.78.78-.78 2.05 0 2.83L4 21.41c.39.39.9.59 1.41.59.51 0 1.02-.2 1.41-.59l7.78-7.78 2.81-2.81c.8-.78.8-2.07 0-2.86zM5.41 20L4 18.59l7.72-7.72 1.47 1.35L5.41 20z\"/>\n",
              "  </svg>\n",
              "      </button>\n",
              "      \n",
              "  <style>\n",
              "    .colab-df-container {\n",
              "      display:flex;\n",
              "      flex-wrap:wrap;\n",
              "      gap: 12px;\n",
              "    }\n",
              "\n",
              "    .colab-df-convert {\n",
              "      background-color: #E8F0FE;\n",
              "      border: none;\n",
              "      border-radius: 50%;\n",
              "      cursor: pointer;\n",
              "      display: none;\n",
              "      fill: #1967D2;\n",
              "      height: 32px;\n",
              "      padding: 0 0 0 0;\n",
              "      width: 32px;\n",
              "    }\n",
              "\n",
              "    .colab-df-convert:hover {\n",
              "      background-color: #E2EBFA;\n",
              "      box-shadow: 0px 1px 2px rgba(60, 64, 67, 0.3), 0px 1px 3px 1px rgba(60, 64, 67, 0.15);\n",
              "      fill: #174EA6;\n",
              "    }\n",
              "\n",
              "    [theme=dark] .colab-df-convert {\n",
              "      background-color: #3B4455;\n",
              "      fill: #D2E3FC;\n",
              "    }\n",
              "\n",
              "    [theme=dark] .colab-df-convert:hover {\n",
              "      background-color: #434B5C;\n",
              "      box-shadow: 0px 1px 3px 1px rgba(0, 0, 0, 0.15);\n",
              "      filter: drop-shadow(0px 1px 2px rgba(0, 0, 0, 0.3));\n",
              "      fill: #FFFFFF;\n",
              "    }\n",
              "  </style>\n",
              "\n",
              "      <script>\n",
              "        const buttonEl =\n",
              "          document.querySelector('#df-a4c33d6f-54dd-40ba-9c14-2451f6a238d6 button.colab-df-convert');\n",
              "        buttonEl.style.display =\n",
              "          google.colab.kernel.accessAllowed ? 'block' : 'none';\n",
              "\n",
              "        async function convertToInteractive(key) {\n",
              "          const element = document.querySelector('#df-a4c33d6f-54dd-40ba-9c14-2451f6a238d6');\n",
              "          const dataTable =\n",
              "            await google.colab.kernel.invokeFunction('convertToInteractive',\n",
              "                                                     [key], {});\n",
              "          if (!dataTable) return;\n",
              "\n",
              "          const docLinkHtml = 'Like what you see? Visit the ' +\n",
              "            '<a target=\"_blank\" href=https://colab.research.google.com/notebooks/data_table.ipynb>data table notebook</a>'\n",
              "            + ' to learn more about interactive tables.';\n",
              "          element.innerHTML = '';\n",
              "          dataTable['output_type'] = 'display_data';\n",
              "          await google.colab.output.renderOutput(dataTable, element);\n",
              "          const docLink = document.createElement('div');\n",
              "          docLink.innerHTML = docLinkHtml;\n",
              "          element.appendChild(docLink);\n",
              "        }\n",
              "      </script>\n",
              "    </div>\n",
              "  </div>\n",
              "  "
            ],
            "text/plain": [
              "                 date  ...                                               text\n",
              "0 2020-01-01 10:29:58  ...  В 2020 году инфляция в России составит 3,5-4%,...\n",
              "1 2020-01-01 11:16:44  ...  Глава Белого дома Дональд Трамп выразил надежд...\n",
              "2 2020-01-01 12:39:08  ...  Председатель Союза еврейских религиозных общин...\n",
              "3 2020-01-01 13:36:41  ...  Первой песней наступившего 2020 года на Первом...\n",
              "4 2020-01-01 14:20:16  ...  Выражение «глубинное государство», пришедшее и...\n",
              "\n",
              "[5 rows x 5 columns]"
            ]
          },
          "metadata": {},
          "execution_count": 6
        }
      ]
    },
    {
      "cell_type": "code",
      "metadata": {
        "colab": {
          "base_uri": "https://localhost:8080/"
        },
        "id": "g2ZVUIPzQV5U",
        "outputId": "7e2b4d9c-4ba4-41ec-b45d-c7dbbc950291"
      },
      "source": [
        "data.shape"
      ],
      "execution_count": 7,
      "outputs": [
        {
          "output_type": "execute_result",
          "data": {
            "text/plain": [
              "(6369, 5)"
            ]
          },
          "metadata": {},
          "execution_count": 7
        }
      ]
    },
    {
      "cell_type": "code",
      "metadata": {
        "id": "38ZUOJVhfIOa"
      },
      "source": [
        "data.drop_duplicates(subset=['text'],inplace=True) #dropping duplicates\n",
        "data.dropna(axis=0,inplace=True) #dropping na"
      ],
      "execution_count": 8,
      "outputs": []
    },
    {
      "cell_type": "code",
      "metadata": {
        "colab": {
          "base_uri": "https://localhost:8080/",
          "height": 333
        },
        "id": "HrIIk416KnGG",
        "outputId": "9eb18262-6507-4d34-e09a-e761d0d13677"
      },
      "source": [
        "df = data[['title', 'text', 'summary']]\n",
        "df.head()"
      ],
      "execution_count": 9,
      "outputs": [
        {
          "output_type": "execute_result",
          "data": {
            "text/html": [
              "\n",
              "  <div id=\"df-cde9bb2d-95b4-4b1a-b8c2-ac601d47435b\">\n",
              "    <div class=\"colab-df-container\">\n",
              "      <div>\n",
              "<style scoped>\n",
              "    .dataframe tbody tr th:only-of-type {\n",
              "        vertical-align: middle;\n",
              "    }\n",
              "\n",
              "    .dataframe tbody tr th {\n",
              "        vertical-align: top;\n",
              "    }\n",
              "\n",
              "    .dataframe thead th {\n",
              "        text-align: right;\n",
              "    }\n",
              "</style>\n",
              "<table border=\"1\" class=\"dataframe\">\n",
              "  <thead>\n",
              "    <tr style=\"text-align: right;\">\n",
              "      <th></th>\n",
              "      <th>title</th>\n",
              "      <th>text</th>\n",
              "      <th>summary</th>\n",
              "    </tr>\n",
              "  </thead>\n",
              "  <tbody>\n",
              "    <tr>\n",
              "      <th>0</th>\n",
              "      <td>Дорогой 2020-й: какие продукты подскочат в цене</td>\n",
              "      <td>В 2020 году инфляция в России составит 3,5-4%,...</td>\n",
              "      <td>В уходящем году инфляция в России находится на...</td>\n",
              "    </tr>\n",
              "    <tr>\n",
              "      <th>1</th>\n",
              "      <td>Подарок от Ким Чен Ына: Трамп ответил на новые...</td>\n",
              "      <td>Глава Белого дома Дональд Трамп выразил надежд...</td>\n",
              "      <td>Мировая общественность призвала лидера КНДР Ки...</td>\n",
              "    </tr>\n",
              "    <tr>\n",
              "      <th>2</th>\n",
              "      <td>Это манипуляция: раввин Польши ответил Путину ...</td>\n",
              "      <td>Председатель Союза еврейских религиозных общин...</td>\n",
              "      <td>Главный раввин Польши Михаил Шудрих раскритико...</td>\n",
              "    </tr>\n",
              "    <tr>\n",
              "      <th>3</th>\n",
              "      <td>Первая после Путина: Ротару выступила на Новый...</td>\n",
              "      <td>Первой песней наступившего 2020 года на Первом...</td>\n",
              "      <td>Народная артистка СССР София Ротару выступила ...</td>\n",
              "    </tr>\n",
              "    <tr>\n",
              "      <th>4</th>\n",
              "      <td>Пресли, Леннон, Трумэн: против кого работал Эд...</td>\n",
              "      <td>Выражение «глубинное государство», пришедшее и...</td>\n",
              "      <td>1 января 1895 года родился самый могущественны...</td>\n",
              "    </tr>\n",
              "  </tbody>\n",
              "</table>\n",
              "</div>\n",
              "      <button class=\"colab-df-convert\" onclick=\"convertToInteractive('df-cde9bb2d-95b4-4b1a-b8c2-ac601d47435b')\"\n",
              "              title=\"Convert this dataframe to an interactive table.\"\n",
              "              style=\"display:none;\">\n",
              "        \n",
              "  <svg xmlns=\"http://www.w3.org/2000/svg\" height=\"24px\"viewBox=\"0 0 24 24\"\n",
              "       width=\"24px\">\n",
              "    <path d=\"M0 0h24v24H0V0z\" fill=\"none\"/>\n",
              "    <path d=\"M18.56 5.44l.94 2.06.94-2.06 2.06-.94-2.06-.94-.94-2.06-.94 2.06-2.06.94zm-11 1L8.5 8.5l.94-2.06 2.06-.94-2.06-.94L8.5 2.5l-.94 2.06-2.06.94zm10 10l.94 2.06.94-2.06 2.06-.94-2.06-.94-.94-2.06-.94 2.06-2.06.94z\"/><path d=\"M17.41 7.96l-1.37-1.37c-.4-.4-.92-.59-1.43-.59-.52 0-1.04.2-1.43.59L10.3 9.45l-7.72 7.72c-.78.78-.78 2.05 0 2.83L4 21.41c.39.39.9.59 1.41.59.51 0 1.02-.2 1.41-.59l7.78-7.78 2.81-2.81c.8-.78.8-2.07 0-2.86zM5.41 20L4 18.59l7.72-7.72 1.47 1.35L5.41 20z\"/>\n",
              "  </svg>\n",
              "      </button>\n",
              "      \n",
              "  <style>\n",
              "    .colab-df-container {\n",
              "      display:flex;\n",
              "      flex-wrap:wrap;\n",
              "      gap: 12px;\n",
              "    }\n",
              "\n",
              "    .colab-df-convert {\n",
              "      background-color: #E8F0FE;\n",
              "      border: none;\n",
              "      border-radius: 50%;\n",
              "      cursor: pointer;\n",
              "      display: none;\n",
              "      fill: #1967D2;\n",
              "      height: 32px;\n",
              "      padding: 0 0 0 0;\n",
              "      width: 32px;\n",
              "    }\n",
              "\n",
              "    .colab-df-convert:hover {\n",
              "      background-color: #E2EBFA;\n",
              "      box-shadow: 0px 1px 2px rgba(60, 64, 67, 0.3), 0px 1px 3px 1px rgba(60, 64, 67, 0.15);\n",
              "      fill: #174EA6;\n",
              "    }\n",
              "\n",
              "    [theme=dark] .colab-df-convert {\n",
              "      background-color: #3B4455;\n",
              "      fill: #D2E3FC;\n",
              "    }\n",
              "\n",
              "    [theme=dark] .colab-df-convert:hover {\n",
              "      background-color: #434B5C;\n",
              "      box-shadow: 0px 1px 3px 1px rgba(0, 0, 0, 0.15);\n",
              "      filter: drop-shadow(0px 1px 2px rgba(0, 0, 0, 0.3));\n",
              "      fill: #FFFFFF;\n",
              "    }\n",
              "  </style>\n",
              "\n",
              "      <script>\n",
              "        const buttonEl =\n",
              "          document.querySelector('#df-cde9bb2d-95b4-4b1a-b8c2-ac601d47435b button.colab-df-convert');\n",
              "        buttonEl.style.display =\n",
              "          google.colab.kernel.accessAllowed ? 'block' : 'none';\n",
              "\n",
              "        async function convertToInteractive(key) {\n",
              "          const element = document.querySelector('#df-cde9bb2d-95b4-4b1a-b8c2-ac601d47435b');\n",
              "          const dataTable =\n",
              "            await google.colab.kernel.invokeFunction('convertToInteractive',\n",
              "                                                     [key], {});\n",
              "          if (!dataTable) return;\n",
              "\n",
              "          const docLinkHtml = 'Like what you see? Visit the ' +\n",
              "            '<a target=\"_blank\" href=https://colab.research.google.com/notebooks/data_table.ipynb>data table notebook</a>'\n",
              "            + ' to learn more about interactive tables.';\n",
              "          element.innerHTML = '';\n",
              "          dataTable['output_type'] = 'display_data';\n",
              "          await google.colab.output.renderOutput(dataTable, element);\n",
              "          const docLink = document.createElement('div');\n",
              "          docLink.innerHTML = docLinkHtml;\n",
              "          element.appendChild(docLink);\n",
              "        }\n",
              "      </script>\n",
              "    </div>\n",
              "  </div>\n",
              "  "
            ],
            "text/plain": [
              "                                               title  ...                                            summary\n",
              "0    Дорогой 2020-й: какие продукты подскочат в цене  ...  В уходящем году инфляция в России находится на...\n",
              "1  Подарок от Ким Чен Ына: Трамп ответил на новые...  ...  Мировая общественность призвала лидера КНДР Ки...\n",
              "2  Это манипуляция: раввин Польши ответил Путину ...  ...  Главный раввин Польши Михаил Шудрих раскритико...\n",
              "3  Первая после Путина: Ротару выступила на Новый...  ...  Народная артистка СССР София Ротару выступила ...\n",
              "4  Пресли, Леннон, Трумэн: против кого работал Эд...  ...  1 января 1895 года родился самый могущественны...\n",
              "\n",
              "[5 rows x 3 columns]"
            ]
          },
          "metadata": {},
          "execution_count": 9
        }
      ]
    },
    {
      "cell_type": "code",
      "metadata": {
        "colab": {
          "base_uri": "https://localhost:8080/"
        },
        "id": "ptW73VsYacOl",
        "outputId": "f3fc84b3-4824-4330-ce4e-8b9594f7bc91"
      },
      "source": [
        "data.info()"
      ],
      "execution_count": 10,
      "outputs": [
        {
          "output_type": "stream",
          "name": "stdout",
          "text": [
            "<class 'pandas.core.frame.DataFrame'>\n",
            "Int64Index: 6369 entries, 0 to 6368\n",
            "Data columns (total 5 columns):\n",
            " #   Column   Non-Null Count  Dtype         \n",
            "---  ------   --------------  -----         \n",
            " 0   date     6369 non-null   datetime64[ns]\n",
            " 1   url      6369 non-null   object        \n",
            " 2   summary  6369 non-null   object        \n",
            " 3   title    6369 non-null   object        \n",
            " 4   text     6369 non-null   object        \n",
            "dtypes: datetime64[ns](1), object(4)\n",
            "memory usage: 298.5+ KB\n"
          ]
        }
      ]
    },
    {
      "cell_type": "markdown",
      "metadata": {
        "id": "2o1OWxekZymq"
      },
      "source": [
        "# Text preprocessing"
      ]
    },
    {
      "cell_type": "code",
      "metadata": {
        "colab": {
          "base_uri": "https://localhost:8080/"
        },
        "id": "GPhTFb9zikHf",
        "outputId": "5236189c-94c4-4d1c-b70f-b7844ade9427"
      },
      "source": [
        "!pip install pymorphy2"
      ],
      "execution_count": 11,
      "outputs": [
        {
          "output_type": "stream",
          "name": "stdout",
          "text": [
            "Collecting pymorphy2\n",
            "  Downloading pymorphy2-0.9.1-py3-none-any.whl (55 kB)\n",
            "\u001b[?25l\r\u001b[K     |██████                          | 10 kB 21.4 MB/s eta 0:00:01\r\u001b[K     |███████████▉                    | 20 kB 13.5 MB/s eta 0:00:01\r\u001b[K     |█████████████████▊              | 30 kB 9.9 MB/s eta 0:00:01\r\u001b[K     |███████████████████████▋        | 40 kB 9.0 MB/s eta 0:00:01\r\u001b[K     |█████████████████████████████▌  | 51 kB 5.4 MB/s eta 0:00:01\r\u001b[K     |████████████████████████████████| 55 kB 2.4 MB/s \n",
            "\u001b[?25hCollecting pymorphy2-dicts-ru<3.0,>=2.4\n",
            "  Downloading pymorphy2_dicts_ru-2.4.417127.4579844-py2.py3-none-any.whl (8.2 MB)\n",
            "\u001b[K     |████████████████████████████████| 8.2 MB 8.7 MB/s \n",
            "\u001b[?25hRequirement already satisfied: docopt>=0.6 in /usr/local/lib/python3.7/dist-packages (from pymorphy2) (0.6.2)\n",
            "Collecting dawg-python>=0.7.1\n",
            "  Downloading DAWG_Python-0.7.2-py2.py3-none-any.whl (11 kB)\n",
            "Installing collected packages: pymorphy2-dicts-ru, dawg-python, pymorphy2\n",
            "Successfully installed dawg-python-0.7.2 pymorphy2-0.9.1 pymorphy2-dicts-ru-2.4.417127.4579844\n"
          ]
        }
      ]
    },
    {
      "cell_type": "code",
      "metadata": {
        "id": "AA7EKEH7Zxc4"
      },
      "source": [
        "import numpy as np\n",
        "import pandas as pd \n",
        "import re\n",
        "import nltk\n",
        "from nltk.corpus import stopwords\n",
        "from nltk.tokenize import word_tokenize, sent_tokenize\n",
        "import pymorphy2\n",
        "import matplotlib.pyplot as plt\n",
        "\n",
        "from bs4 import BeautifulSoup\n",
        "from keras.preprocessing.text import Tokenizer \n",
        "from keras.preprocessing.sequence import pad_sequences\n",
        "\n",
        "from tensorflow.keras.layers import Input, LSTM, Embedding, Dense, Concatenate, TimeDistributed\n",
        "from tensorflow.keras.models import Model\n",
        "from tensorflow.keras.callbacks import EarlyStopping, ModelCheckpoint\n",
        "import warnings\n",
        "pd.set_option(\"display.max_colwidth\", 200)\n",
        "warnings.filterwarnings(\"ignore\")"
      ],
      "execution_count": 12,
      "outputs": []
    },
    {
      "cell_type": "code",
      "metadata": {
        "colab": {
          "base_uri": "https://localhost:8080/"
        },
        "id": "i3anDLzweKnr",
        "outputId": "ee99b5ca-9baf-4874-e0f0-cf84c70914be"
      },
      "source": [
        "nltk.download('stopwords')\n",
        "nltk.download('punkt')"
      ],
      "execution_count": 13,
      "outputs": [
        {
          "output_type": "stream",
          "name": "stdout",
          "text": [
            "[nltk_data] Downloading package stopwords to /root/nltk_data...\n",
            "[nltk_data]   Unzipping corpora/stopwords.zip.\n",
            "[nltk_data] Downloading package punkt to /root/nltk_data...\n",
            "[nltk_data]   Unzipping tokenizers/punkt.zip.\n"
          ]
        },
        {
          "output_type": "execute_result",
          "data": {
            "text/plain": [
              "True"
            ]
          },
          "metadata": {},
          "execution_count": 13
        }
      ]
    },
    {
      "cell_type": "code",
      "metadata": {
        "id": "FAq84Zwtdb21"
      },
      "source": [
        "stop_words = set(stopwords.words('russian'))\n",
        "morph = pymorphy2.MorphAnalyzer()"
      ],
      "execution_count": 14,
      "outputs": []
    },
    {
      "cell_type": "code",
      "metadata": {
        "id": "N4yHjtnJWK0F"
      },
      "source": [
        "def sentence_split(text):\n",
        "  # sentences = re.split(r'[.?!]\\s+', text)\n",
        "  article = text.split(\". \")\n",
        "  sentences = []\n",
        "  for sentence in article:\n",
        "    # print(sentence)\n",
        "    sentences.append(sentence.replace(\"[^а-яА-Я]\", \" \").split(\" \"))\n",
        "    # sentences.pop() \n",
        "\n",
        "  return sentences"
      ],
      "execution_count": 15,
      "outputs": []
    },
    {
      "cell_type": "code",
      "metadata": {
        "id": "ZK7R-GZUKeAa"
      },
      "source": [
        "def text_cleaner(text):\n",
        "\n",
        "  newString = text\n",
        "\n",
        "  newString = text.lower()\n",
        "  \n",
        "  newString = re.sub(r'\\([^)]*\\)', '', newString)\n",
        "  \n",
        "  newString = re.sub('\"','', newString)\n",
        "  \n",
        "  newString = re.sub(r\"'s\\b\",\"\",newString)\n",
        "  \n",
        "  newString = re.sub(\"[^а-яА-Я]\", \" \", newString)\n",
        "  \n",
        "  newString = re.sub('[m]{2,}', 'mm', newString)\n",
        "  \n",
        "  tokens = [w for w in newString.split() if not w in stop_words]\n",
        "\n",
        "  long_words=[]\n",
        "  for i in tokens:\n",
        "      if len(i)>1:\n",
        "          long_words.append(morph.parse(i)[0].normal_form)   \n",
        "  # return (\" \".join(long_words)).strip()\n",
        "  return long_words"
      ],
      "execution_count": 16,
      "outputs": []
    },
    {
      "cell_type": "code",
      "source": [
        "def generate_summarization(idx):\n",
        "\n",
        "  text = df.text.iloc[idx]\n",
        "\n",
        "  words = text_cleaner(text)\n",
        "  freqTable = dict()\n",
        "\n",
        "  for w in words:\n",
        "    if w in stop_words:\n",
        "      continue\n",
        "    if w in freqTable:\n",
        "      freqTable[w] += 1\n",
        "    else:\n",
        "      freqTable[w] = 1\n",
        "\n",
        "  # print(freqTable)\n",
        "\n",
        "  # sentences = sentence_split(text)\n",
        "  sentences = sent_tokenize(text, language='russian')\n",
        "  # print(sentences)\n",
        "  sentenceValue = dict()\n",
        "\n",
        "  for sent in sentences:\n",
        "    for w, f in freqTable.items():\n",
        "      if w in sent.lower():\n",
        "        if sent in sentenceValue:\n",
        "          sentenceValue[sent] += f\n",
        "        else:\n",
        "          sentenceValue[sent] = f\n",
        "\n",
        "  sum = 0\n",
        "  for s in sentenceValue:\n",
        "    sum += sentenceValue[s]\n",
        "  avg = int(sum/len(sentenceValue))\n",
        "  coeff = 2\n",
        "\n",
        "  summary = \"\"\n",
        "  for s in sentences:\n",
        "    if(s in sentenceValue) and (sentenceValue[s] > (coeff*avg)):\n",
        "      summary += s+\" \"\n",
        "\n",
        "  return summary"
      ],
      "metadata": {
        "id": "GSlOlnk1QUdr"
      },
      "execution_count": 17,
      "outputs": []
    },
    {
      "cell_type": "code",
      "source": [
        "def get_jaccard_sim(str1, str2):\n",
        "  arr1 = text_cleaner(str1)\n",
        "  arr2 = text_cleaner(str2)\n",
        "  a = set(arr1) \n",
        "  b = set(arr2)\n",
        "  c = a.intersection(b)\n",
        "  return float(len(c)) / (len(a) + len(b) - len(c))"
      ],
      "metadata": {
        "id": "m-9z34EUjNTs"
      },
      "execution_count": 18,
      "outputs": []
    },
    {
      "cell_type": "code",
      "source": [
        "from collections import Counter\n",
        "from sklearn.feature_extraction.text import CountVectorizer\n",
        "from sklearn.metrics.pairwise import cosine_similarity\n",
        "def get_cosine_sim(*strs): \n",
        "    vectors = [t for t in get_vectors(*strs)]\n",
        "    return cosine_similarity(vectors)\n",
        "    \n",
        "def get_vectors(*strs):\n",
        "    text = [t for t in strs]\n",
        "    vectorizer = CountVectorizer(text)\n",
        "    vectorizer.fit(text)\n",
        "    return vectorizer.transform(text).toarray()"
      ],
      "metadata": {
        "id": "zY-4WM42sCC7"
      },
      "execution_count": 19,
      "outputs": []
    },
    {
      "cell_type": "code",
      "source": [
        "generate_summarization(0)"
      ],
      "metadata": {
        "colab": {
          "base_uri": "https://localhost:8080/",
          "height": 171
        },
        "id": "YYpMO1gjlwo0",
        "outputId": "0250ffe3-fb43-4372-a0ed-8c45e58b167e"
      },
      "execution_count": 20,
      "outputs": [
        {
          "output_type": "execute_result",
          "data": {
            "application/vnd.google.colaboratory.intrinsic+json": {
              "type": "string"
            },
            "text/plain": [
              "'В 2019 году стоимость молока-сырья выросла на 9% и, как следствие, увеличилась цена на готовую продукцию: питьевое молоко за год подорожало на 7%, кефир, ряженка, творог — на 6 %, йогурт – на 8%, сметана на 7%, мороженое на 9%, полутвердые сыры на 10%, сливочное масло – на 11%, рассказала «Газете.Ru» заместитель председателя комитета МТПП по развитию предпринимательства в АПК, генеральный директор «Petrova 5 Consulting» Марина Петрова. По его словам, в 2020 году возрастает и ставка акциза, и цена спирта, а также накладные расходы производителей. Позитивную динамику ценам на продукты помимо фруктов и овощей в прошлом году обеспечило и снижение цен на сахар (почти на 30% с января по ноябрь), яйца (10%), куриное мясо (4,5%) и свинину (3,5%). Теплая погода в России поддерживает рост озимых и не позволяет внутренним ценам расти вслед за экспортными. '"
            ]
          },
          "metadata": {},
          "execution_count": 20
        }
      ]
    },
    {
      "cell_type": "code",
      "source": [
        "df.summary.iloc[0]"
      ],
      "metadata": {
        "colab": {
          "base_uri": "https://localhost:8080/",
          "height": 86
        },
        "id": "bhY2hgDCLEkf",
        "outputId": "c523a806-e5e7-4cf3-fcf1-e56f36281c21"
      },
      "execution_count": 51,
      "outputs": [
        {
          "output_type": "execute_result",
          "data": {
            "application/vnd.google.colaboratory.intrinsic+json": {
              "type": "string"
            },
            "text/plain": [
              "'В уходящем году инфляция в России находится на историческом минимуме. В следующем году ожидается, что она также будет минимальной. Однако стоимость ряда продуктов и напитков в 2020 году может вырасти гораздо выше инфляции. Это касается молочных продуктов. Вырастет в цене водка, коньяк и вино, продолжит дорожать гречка.'"
            ]
          },
          "metadata": {},
          "execution_count": 51
        }
      ]
    },
    {
      "cell_type": "code",
      "metadata": {
        "id": "C6Hns6foSe6R"
      },
      "source": [
        "test_num = 1500\n",
        "jaccard_similarity_array = []\n",
        "cosine_similarity_array = []\n",
        "for i in range(test_num):\n",
        "  s1 = generate_summarization(i)\n",
        "  s2 = df.summary.iloc[i]\n",
        "  res = get_jaccard_sim(s1, s2)\n",
        "  if res > 0.3:\n",
        "    jaccard_similarity_array.append(res)"
      ],
      "execution_count": 47,
      "outputs": []
    },
    {
      "cell_type": "code",
      "source": [
        "jaccard_similarity_array"
      ],
      "metadata": {
        "colab": {
          "base_uri": "https://localhost:8080/"
        },
        "id": "GKGAy50wrpNi",
        "outputId": "117534e6-3b24-40c4-c6b2-d09589ffe773"
      },
      "execution_count": 48,
      "outputs": [
        {
          "output_type": "execute_result",
          "data": {
            "text/plain": [
              "[0.3157894736842105,\n",
              " 0.36231884057971014,\n",
              " 0.38461538461538464,\n",
              " 0.43243243243243246,\n",
              " 0.3103448275862069,\n",
              " 0.39344262295081966,\n",
              " 0.40540540540540543,\n",
              " 0.5945945945945946,\n",
              " 0.3170731707317073,\n",
              " 0.43137254901960786,\n",
              " 0.3673469387755102,\n",
              " 0.3220338983050847,\n",
              " 0.3125,\n",
              " 0.3448275862068966,\n",
              " 0.30158730158730157,\n",
              " 0.3404255319148936,\n",
              " 0.30434782608695654,\n",
              " 0.4634146341463415,\n",
              " 0.40816326530612246,\n",
              " 0.35714285714285715,\n",
              " 0.3090909090909091,\n",
              " 0.37735849056603776,\n",
              " 0.34375,\n",
              " 0.3611111111111111,\n",
              " 0.3939393939393939,\n",
              " 0.32142857142857145,\n",
              " 0.35714285714285715,\n",
              " 0.352112676056338,\n",
              " 0.3055555555555556,\n",
              " 0.3958333333333333,\n",
              " 0.41025641025641024,\n",
              " 0.36538461538461536,\n",
              " 0.3076923076923077,\n",
              " 0.32,\n",
              " 0.425,\n",
              " 0.4722222222222222,\n",
              " 0.3225806451612903,\n",
              " 0.3698630136986301,\n",
              " 0.3493975903614458,\n",
              " 0.36065573770491804,\n",
              " 0.40816326530612246,\n",
              " 0.3230769230769231,\n",
              " 0.375,\n",
              " 0.3877551020408163,\n",
              " 0.3333333333333333,\n",
              " 0.38235294117647056,\n",
              " 0.39344262295081966,\n",
              " 0.32653061224489793,\n",
              " 0.34210526315789475,\n",
              " 0.36923076923076925,\n",
              " 0.30303030303030304,\n",
              " 0.34375,\n",
              " 0.425,\n",
              " 0.3424657534246575,\n",
              " 0.325,\n",
              " 0.3333333333333333,\n",
              " 0.3673469387755102,\n",
              " 0.3793103448275862,\n",
              " 0.30357142857142855,\n",
              " 0.3220338983050847,\n",
              " 0.3023255813953488,\n",
              " 0.3269230769230769,\n",
              " 0.3058823529411765,\n",
              " 0.32558139534883723,\n",
              " 0.391304347826087,\n",
              " 0.4117647058823529,\n",
              " 0.34146341463414637,\n",
              " 0.3333333333333333,\n",
              " 0.3404255319148936,\n",
              " 0.34210526315789475,\n",
              " 0.33707865168539325,\n",
              " 0.32967032967032966,\n",
              " 0.3333333333333333,\n",
              " 0.3275862068965517,\n",
              " 0.391304347826087,\n",
              " 0.3181818181818182]"
            ]
          },
          "metadata": {},
          "execution_count": 48
        }
      ]
    },
    {
      "cell_type": "code",
      "source": [
        "rs = jaccard_similarity_array[::-1]\n",
        "print(rs)"
      ],
      "metadata": {
        "colab": {
          "base_uri": "https://localhost:8080/"
        },
        "id": "ivrflIF3vvcX",
        "outputId": "3f162cf6-f4d6-4a46-98fc-71c55757179b"
      },
      "execution_count": 49,
      "outputs": [
        {
          "output_type": "stream",
          "name": "stdout",
          "text": [
            "[0.3181818181818182, 0.391304347826087, 0.3275862068965517, 0.3333333333333333, 0.32967032967032966, 0.33707865168539325, 0.34210526315789475, 0.3404255319148936, 0.3333333333333333, 0.34146341463414637, 0.4117647058823529, 0.391304347826087, 0.32558139534883723, 0.3058823529411765, 0.3269230769230769, 0.3023255813953488, 0.3220338983050847, 0.30357142857142855, 0.3793103448275862, 0.3673469387755102, 0.3333333333333333, 0.325, 0.3424657534246575, 0.425, 0.34375, 0.30303030303030304, 0.36923076923076925, 0.34210526315789475, 0.32653061224489793, 0.39344262295081966, 0.38235294117647056, 0.3333333333333333, 0.3877551020408163, 0.375, 0.3230769230769231, 0.40816326530612246, 0.36065573770491804, 0.3493975903614458, 0.3698630136986301, 0.3225806451612903, 0.4722222222222222, 0.425, 0.32, 0.3076923076923077, 0.36538461538461536, 0.41025641025641024, 0.3958333333333333, 0.3055555555555556, 0.352112676056338, 0.35714285714285715, 0.32142857142857145, 0.3939393939393939, 0.3611111111111111, 0.34375, 0.37735849056603776, 0.3090909090909091, 0.35714285714285715, 0.40816326530612246, 0.4634146341463415, 0.30434782608695654, 0.3404255319148936, 0.30158730158730157, 0.3448275862068966, 0.3125, 0.3220338983050847, 0.3673469387755102, 0.43137254901960786, 0.3170731707317073, 0.5945945945945946, 0.40540540540540543, 0.39344262295081966, 0.3103448275862069, 0.43243243243243246, 0.38461538461538464, 0.36231884057971014, 0.3157894736842105]\n"
          ]
        }
      ]
    },
    {
      "cell_type": "code",
      "source": [
        "plt.rcParams[\"figure.figsize\"] = [7.50, 3.50]\n",
        "plt.rcParams[\"figure.autolayout\"] = True\n",
        "\n",
        "rs = jaccard_similarity_array.reverse()\n",
        "x = np.array([i for i in range(len(jaccard_similarity_array))])\n",
        "\n",
        "print(jaccard_similarity_array)\n",
        "y1 = np.array(jaccard_similarity_array)*100\n",
        "plt.title(\"Similarity by percentage\")\n",
        "plt.plot(color='red')\n",
        "plt.plot(x, y1, \"-ok\", color='blue')\n",
        "\n",
        "plt.show()"
      ],
      "metadata": {
        "colab": {
          "base_uri": "https://localhost:8080/",
          "height": 298
        },
        "id": "EyCKy7OHYnLL",
        "outputId": "d959e8d3-7dd3-47b7-bd6c-ba0d8335601f"
      },
      "execution_count": 50,
      "outputs": [
        {
          "output_type": "stream",
          "name": "stdout",
          "text": [
            "[0.3181818181818182, 0.391304347826087, 0.3275862068965517, 0.3333333333333333, 0.32967032967032966, 0.33707865168539325, 0.34210526315789475, 0.3404255319148936, 0.3333333333333333, 0.34146341463414637, 0.4117647058823529, 0.391304347826087, 0.32558139534883723, 0.3058823529411765, 0.3269230769230769, 0.3023255813953488, 0.3220338983050847, 0.30357142857142855, 0.3793103448275862, 0.3673469387755102, 0.3333333333333333, 0.325, 0.3424657534246575, 0.425, 0.34375, 0.30303030303030304, 0.36923076923076925, 0.34210526315789475, 0.32653061224489793, 0.39344262295081966, 0.38235294117647056, 0.3333333333333333, 0.3877551020408163, 0.375, 0.3230769230769231, 0.40816326530612246, 0.36065573770491804, 0.3493975903614458, 0.3698630136986301, 0.3225806451612903, 0.4722222222222222, 0.425, 0.32, 0.3076923076923077, 0.36538461538461536, 0.41025641025641024, 0.3958333333333333, 0.3055555555555556, 0.352112676056338, 0.35714285714285715, 0.32142857142857145, 0.3939393939393939, 0.3611111111111111, 0.34375, 0.37735849056603776, 0.3090909090909091, 0.35714285714285715, 0.40816326530612246, 0.4634146341463415, 0.30434782608695654, 0.3404255319148936, 0.30158730158730157, 0.3448275862068966, 0.3125, 0.3220338983050847, 0.3673469387755102, 0.43137254901960786, 0.3170731707317073, 0.5945945945945946, 0.40540540540540543, 0.39344262295081966, 0.3103448275862069, 0.43243243243243246, 0.38461538461538464, 0.36231884057971014, 0.3157894736842105]\n"
          ]
        },
        {
          "output_type": "display_data",
          "data": {
            "image/png": "[encoded data removed]",
            "text/plain": [
              "<Figure size 540x252 with 1 Axes>"
            ]
          },
          "metadata": {
            "needs_background": "light"
          }
        }
      ]
    },
    {
      "cell_type": "code",
      "source": [
        ""
      ],
      "metadata": {
        "id": "1Ennf0UQrPSB"
      },
      "execution_count": null,
      "outputs": []
    }
  ]
}